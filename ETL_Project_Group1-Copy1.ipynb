{
 "cells": [
  {
   "cell_type": "code",
   "execution_count": null,
   "metadata": {
    "scrolled": false
   },
   "outputs": [],
   "source": [
    "from bs4 import BeautifulSoup as bs\n",
    "import requests\n",
    "import os\n",
    "import pymongo\n",
    "import time\n",
    "from splinter import Browser\n",
    "import pandas as pd\n",
    "import re\n",
    "import scrapy\n",
    "    "
   ]
  },
  {
   "cell_type": "code",
   "execution_count": null,
   "metadata": {
    "scrolled": true
   },
   "outputs": [],
   "source": [
    "# use pandas to read in Kaggle csv dataset\n",
    "\n",
    "data = pd.read_csv(\"train.csv\") \n",
    "data.head"
   ]
  },
  {
   "cell_type": "code",
   "execution_count": null,
   "metadata": {},
   "outputs": [],
   "source": [
    "#delete unneccesary columns\n",
    "\n",
    "df = data.drop(columns=['user_name', 'review_description','region_2'])\n",
    "df.head()"
   ]
  },
  {
   "cell_type": "code",
   "execution_count": null,
   "metadata": {},
   "outputs": [],
   "source": [
    "# rename column that includes brand and wine title\n",
    "df.rename(columns={'review_title':'brand_name'}, inplace=True)\n",
    "df.head()"
   ]
  },
  {
   "cell_type": "code",
   "execution_count": null,
   "metadata": {},
   "outputs": [],
   "source": [
    "# using splinter to browse target webpage\n",
    "\n",
    "executable_path = {'executable_path': 'C:\\\\Users\\\\winyi\\\\OneDrive\\\\Desktop\\\\LearnPython\\\\chromedriver.exe'}\n",
    "\n",
    "browser = Browser('chrome', **executable_path, headless=False)\n",
    "\n",
    "url = \"https://www.vivino.com/explore?e=eJwtzjEOwjAMBdDb_DltU0EHb9wAMSGETAhRJNIiJyrt7QlJFj_5fw8OQh2Cn6lTCLzRqBTMTpczTB4nfHLtXrSyeJv4jeVBwsnPLt55tcLOYqGnjQbfdL3l40JfGSq6cmidhvy749Acm1Oxr6vOf5R40ojk-AfdtDSE\"\n",
    "browser.visit(url)\n",
    "\n",
    "time.sleep(5)\n",
    "\n",
    "\n",
    "\n"
   ]
  },
  {
   "cell_type": "code",
   "execution_count": null,
   "metadata": {},
   "outputs": [],
   "source": [
    "# scraping the site\n",
    "#create variables, add counter and while loop to scroll page\n",
    "\n",
    "brand_list = []\n",
    "name_list = []\n",
    "rating_list = []\n",
    "review_count_list = []\n",
    "scroll_counter = 0\n",
    "while scroll_counter < 125:\n",
    "    browser.execute_script(\"window.scrollTo(0, document.body.scrollHeight);\") \n",
    "    time.sleep(7)\n",
    "    scroll_counter = scroll_counter+1\n",
    "\n",
    "# beautiful soup and for loop to scrape info needed for eah wine on page    \n",
    "    \n",
    "html = browser.html    \n",
    "soup = bs(html, 'lxml')       \n",
    "wine = soup.find_all('div', {'class': 'explorerCard__explorerCard--3Q7_0'})    \n",
    "\n",
    "for wine in wine:\n",
    "    brand=wine.find('span', {'class':'vintageTitle__winery--2YoIr'})\n",
    "    brand2 = brand.text\n",
    "    brand_list.append(brand2)\n",
    "    name= wine.find('span', {'class':'vintageTitle__wine--U7t9G'})\n",
    "    name2=name.text\n",
    "    name_list.append(name2)\n",
    "    rating =wine.find('div',{'class':'vivinoRatingWide__averageValue--1zL_5'})\n",
    "    rating2 = rating.text\n",
    "    rating_list.append(rating2)\n",
    "    review_count = wine.find('div', {'class':'vivinoRatingWide__basedOn--s6y0t'})\n",
    "    review_count2 = review_count.text\n",
    "    review_count_list.append(review_count2)\n",
    "            \n",
    "             \n",
    "        "
   ]
  },
  {
   "cell_type": "code",
   "execution_count": null,
   "metadata": {},
   "outputs": [],
   "source": [
    "# create dataframe from listsof data, re-name columns\n",
    "\n",
    "vino_df = pd.DataFrame({'brand':brand_list,'name':name_list,'rating':rating_list,'review_count':review_count_list})"
   ]
  },
  {
   "cell_type": "code",
   "execution_count": null,
   "metadata": {},
   "outputs": [],
   "source": [
    "#zip brand name and title of wine into one column to match kaggle data\n",
    "\n",
    "vino_df['brand_name']=vino_df['brand']+' '+ vino_df['name']\n",
    "vino_df"
   ]
  },
  {
   "cell_type": "code",
   "execution_count": null,
   "metadata": {},
   "outputs": [],
   "source": [
    "# drop the two columns that have been merged\n",
    "wine_df=vino_df.drop(columns=['brand', 'name'])\n",
    "wine_df"
   ]
  },
  {
   "cell_type": "code",
   "execution_count": null,
   "metadata": {},
   "outputs": [],
   "source": [
    "# merge two dataframes\n",
    "clean_wine = pd.merge(df,wine_df,on='brand_name',how='left')\n",
    "clean_wine.head()"
   ]
  },
  {
   "cell_type": "code",
   "execution_count": null,
   "metadata": {},
   "outputs": [],
   "source": [
    "# export final dataframe to csv\n",
    "clean_wine.to_csv('final_data.csv')\n",
    "\n",
    "\n",
    "# clean_wine = clean_wine[clean_wine['rating'].notna()]\n",
    "# clean_wine.head()"
   ]
  },
  {
   "cell_type": "code",
   "execution_count": null,
   "metadata": {},
   "outputs": [],
   "source": [
    "conn = 'mongodb://localhost:27017'\n",
    "client = pymongo.MongoClient(conn)\n",
    "\n",
    "db = client.wine_db\n",
    "\n",
    "# Declare the collection\n",
    "collection = db.wine_db"
   ]
  },
  {
   "cell_type": "code",
   "execution_count": null,
   "metadata": {},
   "outputs": [],
   "source": [
    "clean_wine.reset_index(inplace=True)\n",
    "clean_wine_dict = clean_wine.to_dict('records')\n",
    "\n",
    "collection.insert_many(clean_wine_dict)\n",
    "\n",
    "\n"
   ]
  },
  {
   "cell_type": "code",
   "execution_count": null,
   "metadata": {},
   "outputs": [],
   "source": []
  }
 ],
 "metadata": {
  "kernelspec": {
   "display_name": "Python [conda env:PythonData]",
   "language": "python",
   "name": "conda-env-PythonData-py"
  },
  "language_info": {
   "codemirror_mode": {
    "name": "ipython",
    "version": 3
   },
   "file_extension": ".py",
   "mimetype": "text/x-python",
   "name": "python",
   "nbconvert_exporter": "python",
   "pygments_lexer": "ipython3",
   "version": "3.6.10"
  }
 },
 "nbformat": 4,
 "nbformat_minor": 4
}
