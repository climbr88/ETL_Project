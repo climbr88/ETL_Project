{
 "cells": [
  {
   "cell_type": "code",
   "execution_count": 1,
   "metadata": {
    "scrolled": false
   },
   "outputs": [],
   "source": [
    "from bs4 import BeautifulSoup as bs\n",
    "import requests\n",
    "import os\n",
    "import pymongo\n",
    "import time\n",
    "from splinter import Browser\n",
    "import pandas as pd\n",
    "import re\n",
    "import scrapy"
   ]
  },
  {
   "cell_type": "code",
   "execution_count": 2,
   "metadata": {},
   "outputs": [],
   "source": [
    "executable_path = {'executable_path': 'C:\\\\Users\\\\winyi\\\\OneDrive\\\\Desktop\\\\LearnPython\\\\chromedriver.exe'}\n",
    "\n",
    "browser = Browser('chrome', **executable_path, headless=False)\n",
    "\n",
    "url = \"https://www.vivino.com/explore?e=eJwtikEOAiEQBH_TZ9Alq4e5-QPjyWzMiDghkV0DZNXfi4yXqnSqUyaLFGeyBonf5IyB_9DpCN9wwLNludPKOYbKDyxXylzjLOXCa8gsAQvdQvF41fPUzl0b1VY1qMZ_GyC9ST_-6Dp3nVbzXodRjSqlQyHhL5QjOZ0=\"\n",
    "browser.visit(url)\n",
    "\n",
    "time.sleep(5)\n",
    "\n",
    "html = browser.html\n",
    "soup = bs(html, 'lxml')\n"
   ]
  },
  {
   "cell_type": "code",
   "execution_count": 14,
   "metadata": {
    "scrolled": false
   },
   "outputs": [],
   "source": [
    "browser.execute_script(\"window.scrollTo(0, document.body.scrollHeight);\")"
   ]
  },
  {
   "cell_type": "code",
   "execution_count": 15,
   "metadata": {},
   "outputs": [],
   "source": [
    "#trying to find one wine\n",
    "\n",
    "\n",
    "\n",
    "\n",
    "wine = soup.find_all('div', {'class': 'explorerCard__explorerCard--3Q7_0'})"
   ]
  },
  {
   "cell_type": "code",
   "execution_count": 16,
   "metadata": {},
   "outputs": [
    {
     "name": "stdout",
     "output_type": "stream",
     "text": [
      "Montrachet Grand Cru Marquis de Laguiche 2017\n",
      "Cabernet Sauvignon Proprietor Grown 2015\n",
      "Richebourg Grand Cru 2003\n",
      "Cabernet Sauvignon 2015\n",
      "Darius II Cabernet Sauvignon 2016\n",
      "Kayli Morgan Vineyard Cabernet Sauvignon 2014\n",
      "Cabernet Sauvignon RBS Beckstoffer To Kalon Vineyard 2014\n",
      "Grands-Échezeaux Grand Cru 2015\n",
      "Fortis Cabernet Sauvignon 2014\n",
      "Cobos Chañares Estate Malbec 2016\n",
      "Cabernet Sauvignon RBS Beckstoffer To Kalon Vineyard 2015\n",
      "Wraith  Cabernet Sauvignon 2013\n",
      "Cobos Marchiori Vineyard Malbec 2016\n",
      "Toscana 2016\n",
      "Cabernet Sauvignon Proprietor Grown 2011\n",
      "Cabernet Sauvignon 1999\n",
      "The 17th Nail in My Cranium 2005\n",
      "Beckstoffer To Kalon Vineyard Cabernet Sauvignon 2015\n",
      "La Tâche Grand Cru 2016\n",
      "Cabernet Sauvignon RBS Beckstoffer To Kalon Vineyard 2016\n",
      "Montrachet Grand Cru 1999\n",
      "Cabernet Sauvignon 2013\n",
      "Cabernet Sauvignon 2001\n",
      "Helms Vineyard Cabernet Sauvignon 2008\n",
      "Farella Vineyard 2016\n"
     ]
    }
   ],
   "source": [
    "\n",
    "\n",
    "for wine in wine:\n",
    "\n",
    "    name = wine.find('span', {'class':'vintageTitle__wine--U7t9G'})\n",
    "    print(name.text)"
   ]
  },
  {
   "cell_type": "code",
   "execution_count": null,
   "metadata": {},
   "outputs": [],
   "source": []
  }
 ],
 "metadata": {
  "kernelspec": {
   "display_name": "Python [conda env:PythonData]",
   "language": "python",
   "name": "conda-env-PythonData-py"
  },
  "language_info": {
   "codemirror_mode": {
    "name": "ipython",
    "version": 3
   },
   "file_extension": ".py",
   "mimetype": "text/x-python",
   "name": "python",
   "nbconvert_exporter": "python",
   "pygments_lexer": "ipython3",
   "version": "3.6.10"
  }
 },
 "nbformat": 4,
 "nbformat_minor": 4
}
